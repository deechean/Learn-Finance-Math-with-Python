{
 "cells": [
  {
   "cell_type": "markdown",
   "metadata": {},
   "source": [
    "# 1-Portfolios with Stocks and Bonds\n",
    "\n",
    "An elementary portfolios contains X bonds and y stocks. Let A(0) = 10 be the initial price of a bond. Let S(0) = 10 be the initial price of a stock. \n",
    "\n",
    "Assumption:\n",
    "- A(1) price of the bond after 1 year is known: A(1) = 12\n",
    "- S(1) price of the stock after 1 year is ramdon S(1) -> (P) 15, S(1) -> (1-P) 5\n",
    "\n",
    "x, y can be any real number.\n",
    "Let (x, y, t) = xA(t) + yS(t)\n",
    "Ex: Let x = 8 and y = 2, V(8,2,0) = 8*A(0) + 2*S(0) = 100\n",
    "V(8,2,1) = 8 * A(0) + "
   ]
  },
  {
   "cell_type": "code",
   "execution_count": 2,
   "metadata": {},
   "outputs": [
    {
     "name": "stdout",
     "output_type": "stream",
     "text": [
      "Forward Pricing \n",
      "\n",
      "S(0) : 1000\n",
      "Forward Contract Price : 1500\n",
      "S(1) : 2000\n",
      "Gain : 500\n"
     ]
    }
   ],
   "source": [
    "import math\n",
    "import pandas as pd\n",
    "import plotly.express as px\n",
    "\n",
    "# initial amount p, value after t year depends on the rate of interest (i)\n",
    "print(\"Forward Pricing \\n\")\n",
    "S_0 = 1000\n",
    "F = 1500\n",
    "S_1 = 2000\n",
    "\n",
    "print(f\"S(0) : {S_0}\")\n",
    "print(f\"Forward Contract Price : {F}\")\n",
    "print(f\"S(1) : {S_1}\")\n",
    "print(f\"Gain : {S_1-F}\")"
   ]
  },
  {
   "cell_type": "markdown",
   "metadata": {},
   "source": [
    "Let r be the risk free rate of return than F=S(0)e<sup>rT</sup>, where T is the time that contract is executed. If not, then \n",
    "\n",
    "case 1: F > S(0)e<sup>rT</sup>， borrow S(0) risk free and invest in the stock. After time T we will have S(1) and are S(0)<sup>rT</sup>. If we had extended into a short forward, then we can sell for F > S(0)<sup>rT</sup>, repay the bank and get F - S(0)e<sup>rT</sup>. \n",
    "\n",
    "case 2: F < S(0)e<sup>rT</sup>, short sell the stock, borrow and imediately sell, gain s(0) and invest risk free. Enter a long forward, at time T have S(0)e<sup>rT</sup> and must buy for F, since S(0)e<sup>rT</sup> > F, we can buy to the stock and return to seller => gain S(0)e<sup>rT</sup>-F. "
   ]
  }
 ],
 "metadata": {
  "kernelspec": {
   "display_name": "base",
   "language": "python",
   "name": "python3"
  },
  "language_info": {
   "codemirror_mode": {
    "name": "ipython",
    "version": 3
   },
   "file_extension": ".py",
   "mimetype": "text/x-python",
   "name": "python",
   "nbconvert_exporter": "python",
   "pygments_lexer": "ipython3",
   "version": "3.11.5"
  }
 },
 "nbformat": 4,
 "nbformat_minor": 2
}
