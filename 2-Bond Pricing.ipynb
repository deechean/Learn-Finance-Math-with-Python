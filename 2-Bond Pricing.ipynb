{
 "cells": [
  {
   "cell_type": "markdown",
   "metadata": {},
   "source": [
    "# 1. Find Bond Pricing\n",
    "\n",
    "A Bond is a finance instrument which promise a redemption value after a certain period of time. \n",
    "F: Face Value\n",
    "C: Redemption Value\n",
    "n: Number of coupon period \n",
    "r: effective coupon rate\n",
    "i: effective annual rate (yield rate)\n",
    "\n",
    "Suppose that a ten year bond with face value $1000 and remdeption value $800. It pay 10% semiannual and yield 8% annual interest. Find the base amount and price. "
   ]
  },
  {
   "cell_type": "code",
   "execution_count": null,
   "metadata": {},
   "outputs": [
    {
     "name": "stdout",
     "output_type": "stream",
     "text": [
      "Bond Pricing \n",
      "\n",
      "Face Value is 1000.0\n",
      "Redemption Value 800.0\n",
      "Years to mature 10\n",
      "Effective coupon rate 0.1\n",
      "Effective annual rate (yield rate) 0.08\n"
     ]
    }
   ],
   "source": [
    "import math\n",
    "import pandas as pd\n",
    "import plotly.express as px\n",
    "\n",
    "# initial amount p, value after t year depends on the rate of interest (i)\n",
    "print(\"Bond Pricing \\n\")\n",
    "F = 1000.0      # Face Value\n",
    "C = 800.0       # Redemption Value\n",
    "Y = 10          # Years to mature \n",
    "r = 0.1         # effective annual coupon rate\n",
    "i = 0.08        # effective annual rate (yield rate)\n",
    "\n",
    "print(f\"Face Value is {F}\")\n",
    "print(f\"Redemption Value {C}\")\n",
    "print(f\"Years to mature {Y}\")\n",
    "print(f\"Effective coupon rate {r}\")\n",
    "print(f\"Effective annual rate (yield rate) {i}\")"
   ]
  },
  {
   "cell_type": "markdown",
   "metadata": {},
   "source": [
    "## Step 1 - Coupon Payment\n",
    "\n",
    "Coupon Payment = Face Price * Coupon Rate"
   ]
  },
  {
   "cell_type": "code",
   "execution_count": 19,
   "metadata": {},
   "outputs": [
    {
     "name": "stdout",
     "output_type": "stream",
     "text": [
      "Number of Coupon Period: 20\n",
      "Coupon Rate: 0.05\n",
      "Coupon Payment: 50.0\n",
      "Semiannual Yield: 0.0392\n"
     ]
    }
   ],
   "source": [
    "# Coupon Payment = Face Price * Coupon Rate\n",
    "NumCouponPeriod = Y * 2\n",
    "coupon_rate = r/2\n",
    "coupon_payment = F * coupon_rate\n",
    "# annual_yield = (1 + semiannual_yield)**2  => semiannual_yield = sqrt(annual_yield) - 1 \n",
    "semiannual_yield = round(math.sqrt(1+i) - 1, 4)\n",
    "\n",
    "print(f\"Number of Coupon Period: {NumCouponPeriod}\")\n",
    "print(f\"Coupon Rate: {coupon_rate}\")\n",
    "print(f\"Coupon Payment: {coupon_payment}\")\n",
    "print(f\"Semiannual Yield: {semiannual_yield}\")"
   ]
  },
  {
   "cell_type": "markdown",
   "metadata": {},
   "source": [
    "## Step 2 - Bond Price\n",
    "\n",
    "$$Bond Price = Face Price * Coupon Rate * a_{n|j} + Redemption Value * V^n $$"
   ]
  },
  {
   "cell_type": "code",
   "execution_count": null,
   "metadata": {},
   "outputs": [],
   "source": []
  },
  {
   "cell_type": "code",
   "execution_count": 23,
   "metadata": {},
   "outputs": [
    {
     "name": "stdout",
     "output_type": "stream",
     "text": [
      "Bond Price: 936.87\n"
     ]
    }
   ],
   "source": [
    "# Coupon Price \n",
    "\n",
    "v = 1/(1+semiannual_yield)\n",
    "a_n_j = (1 - v**NumCouponPeriod)/semiannual_yield\n",
    "BondPrice = round(coupon_payment * a_n_j + C * (1-a_n_j * coupon_rate),2)\n",
    "\n",
    "print(f\"Bond Price: {BondPrice}\")"
   ]
  },
  {
   "cell_type": "markdown",
   "metadata": {},
   "source": [
    "# 2. Find the Yield of a Bond\n",
    "\n",
    "Suppose that we have a par valued bond priced at $1500 making quarterly coupon payment of 12%. If the bond has a ten year redemption date, then find the yield i. \n",
    "\n",
    "Par value : Face Price = Redemption Value"
   ]
  },
  {
   "cell_type": "code",
   "execution_count": null,
   "metadata": {},
   "outputs": [
    {
     "name": "stdout",
     "output_type": "stream",
     "text": [
      "Face Price / Redemption Value: 1500\n",
      "Annual coupon rate: 0.12\n",
      "Coupon rate per Coupon Period: 0.03\n",
      "Number of Coupon Period: 40\n"
     ]
    }
   ],
   "source": [
    "F = 1500\n",
    "annual_coupon_rate = 0.12\n",
    "quarterly_coupon_rate = annual_coupon_rate / 4\n",
    "NumCouponPeriod = 10 * 4\n",
    "coupon_payment = F * quarterly_coupon_rate\n",
    "\n",
    "print(f\"Face Price / Redemption Value: {F}\")\n",
    "print(f\"Annual coupon rate: {annual_coupon_rate}\")\n",
    "print(f\"Coupon rate per Coupon Period: {quarterly_coupon_rate}\")\n",
    "print(f\"Number of Coupon Period: {NumCouponPeriod}\")\n",
    "print(f\"Coupon Payment: {coupon_payment}\")\n"
   ]
  },
  {
   "cell_type": "markdown",
   "metadata": {},
   "source": [
    "## Step 2. Find yield\n",
    "\n",
    "$$Bond Price = Face Price * Coupon Rate * a_{n|j} + Redemption Value * V^n $$ \n",
    "\n",
    "$$Bond Price = Face Price * Coupon Rate * v * (1 - v^n) / (1 - v)  + Redemption Value * v^n$$"
   ]
  },
  {
   "cell_type": "code",
   "execution_count": null,
   "metadata": {},
   "outputs": [],
   "source": [
    "BondPrice = 1500\n",
    "coupon_payment * (v - v**41)/(1-v) + F * v**40 = BondPrice"
   ]
  }
 ],
 "metadata": {
  "kernelspec": {
   "display_name": "base",
   "language": "python",
   "name": "python3"
  },
  "language_info": {
   "codemirror_mode": {
    "name": "ipython",
    "version": 3
   },
   "file_extension": ".py",
   "mimetype": "text/x-python",
   "name": "python",
   "nbconvert_exporter": "python",
   "pygments_lexer": "ipython3",
   "version": "3.11.5"
  }
 },
 "nbformat": 4,
 "nbformat_minor": 2
}
