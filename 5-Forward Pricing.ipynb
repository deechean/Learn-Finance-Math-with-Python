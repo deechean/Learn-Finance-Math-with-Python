{
 "cells": [
  {
   "cell_type": "markdown",
   "metadata": {},
   "source": [
    "# 1. Forward Pricing\n",
    "\n",
    "A forward cotract is an agreement to buy or sell a stock at a given delivery data for a price F, forward price.\n",
    "\n",
    "long = buy\n",
    "\n",
    "short = sell\n",
    "\n",
    "Ex: S(0) = 1000, F = 1500\n",
    "\n",
    "If S(1) = 2000, \n",
    "- a long forward would buy for 1500, then sell for 2000 gain of 500. \n",
    "- a short forward would sell for 1500, then buy for 2000, suffer a loss of 500. \n",
    "\n",
    "If S(1) = 500,\n",
    "- a long forward would buy for 1500, suffer a loss of 1000.\n",
    "- a short forward would sell for 1500, then buy for 500 gain of 1000."
   ]
  },
  {
   "cell_type": "code",
   "execution_count": 2,
   "metadata": {},
   "outputs": [
    {
     "name": "stdout",
     "output_type": "stream",
     "text": [
      "Forward Pricing \n",
      "\n",
      "S(0) : 1000\n",
      "Forward Contract Price : 1500\n",
      "S(1) : 2000\n",
      "Gain : 500\n"
     ]
    }
   ],
   "source": [
    "import math\n",
    "import pandas as pd\n",
    "import plotly.express as px\n",
    "\n",
    "# initial amount p, value after t year depends on the rate of interest (i)\n",
    "print(\"Forward Pricing \\n\")\n",
    "S_0 = 1000\n",
    "F = 1500\n",
    "S_1 = 2000\n",
    "\n",
    "print(f\"S(0) : {S_0}\")\n",
    "print(f\"Forward Contract Price : {F}\")\n",
    "print(f\"S(1) : {S_1}\")\n",
    "print(f\"Gain : {S_1-F}\")"
   ]
  },
  {
   "cell_type": "markdown",
   "metadata": {},
   "source": [
    "Let r be the risk free rate of return than F=S(0)e<sup>rT</sup>, where T is the time that contract is executed. If not, then \n",
    "\n",
    "case 1: F > S(0)e<sup>rT</sup>， borrow S(0) risk free and invest in the stock. After time T we will have S(1) and are S(0)<sup>rT</sup>. If we had extended into a short forward, then we can sell for F > S(0)<sup>rT</sup>, repay the bank and get F - S(0)e<sup>rT</sup>. \n",
    "\n",
    "case 2: F < S(0)e<sup>rT</sup>, short sell the stock, borrow and imediately sell, gain s(0) and invest risk free. Enter a long forward, at time T have S(0)e<sup>rT</sup> and must buy for F, since S(0)e<sup>rT</sup> > F, we can buy to the stock and return to seller => gain S(0)e<sup>rT</sup>-F. "
   ]
  }
 ],
 "metadata": {
  "kernelspec": {
   "display_name": "base",
   "language": "python",
   "name": "python3"
  },
  "language_info": {
   "codemirror_mode": {
    "name": "ipython",
    "version": 3
   },
   "file_extension": ".py",
   "mimetype": "text/x-python",
   "name": "python",
   "nbconvert_exporter": "python",
   "pygments_lexer": "ipython3",
   "version": "3.11.5"
  }
 },
 "nbformat": 4,
 "nbformat_minor": 2
}
